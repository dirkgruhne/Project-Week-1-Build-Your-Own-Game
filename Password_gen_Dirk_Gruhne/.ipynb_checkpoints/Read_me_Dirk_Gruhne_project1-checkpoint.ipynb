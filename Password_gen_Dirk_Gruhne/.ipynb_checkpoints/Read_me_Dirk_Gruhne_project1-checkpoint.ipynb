{
 "cells": [
  {
   "cell_type": "markdown",
   "metadata": {},
   "source": [
    "Project title\n",
    "\n",
    "This is my first week's project at the Data Analyst bootcamp Ironhack Barcelona, creating the game \"Password generator\".\n",
    "\n",
    "Motivation\n",
    "The idea was to plan the development process, code the game based on an online version available on the internet and create a repository with all the required elements and present the game/code in class.\n",
    "\n",
    "Inspiration:\n",
    "https://passwordsgenerator.net/\n",
    "\n",
    "Built with Jupyter\n",
    "\n",
    "Tests\n",
    "\n",
    "\n",
    "How to use?\n",
    "The rules of the game are as followed:\n",
    "\n",
    "1. Title and welcome-message (print statement)\n",
    "2. Blog Post Password tips (external link)\n",
    "3. Input - choose complexity of the password (Input function with if-statements and while loop)\n",
    "4. Input - choose password length (same as for choosing complexity) \n",
    "5. Message \"Your password is being generated\" (print statement)\n",
    "6. Show the Password (print statement)\n",
    "7. Input: Do you prefer another password ((Input function with if-statements and while loop)\n",
    "8. Good bye (print-statement)\n",
    "\n",
    "Things to improve:\n",
    "\n",
    "Error handling for incorrect user input\n",
    "Wider range of symbols\n",
    "Offer helpful clues of how to memorize strong passwords (Yg2bS_n/g > \"You got to be Strong_now/girl)\n",
    "Fancier design/ interface\n",
    "\n",
    "Contribute\n",
    "The game is a very basic version of the game. Aspects that need to be improved:\n",
    "\n",
    "Aspects that might be improved:\n",
    "- including varios levels of difficulty\n",
    "- giving the gamer the opportunity \n",
    "\n",
    "Credits\n",
    "Give proper credits. This could be a link to any repo which inspired you to build this project, any blogposts or links to people who contrbuted in this project.\n",
    "\n",
    "Anything else that seems useful\n",
    "License\n",
    "A short snippet describing the license (MIT, Apache etc)"
   ]
  }
 ],
 "metadata": {
  "kernelspec": {
   "display_name": "Python 3",
   "language": "python",
   "name": "python3"
  },
  "language_info": {
   "codemirror_mode": {
    "name": "ipython",
    "version": 3
   },
   "file_extension": ".py",
   "mimetype": "text/x-python",
   "name": "python",
   "nbconvert_exporter": "python",
   "pygments_lexer": "ipython3",
   "version": "3.8.3"
  },
  "toc": {
   "base_numbering": 1,
   "nav_menu": {},
   "number_sections": true,
   "sideBar": true,
   "skip_h1_title": false,
   "title_cell": "Table of Contents",
   "title_sidebar": "Contents",
   "toc_cell": false,
   "toc_position": {},
   "toc_section_display": true,
   "toc_window_display": false
  }
 },
 "nbformat": 4,
 "nbformat_minor": 4
}
